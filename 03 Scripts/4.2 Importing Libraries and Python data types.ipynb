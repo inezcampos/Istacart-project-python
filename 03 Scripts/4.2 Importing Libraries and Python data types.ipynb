{
 "cells": [
  {
   "cell_type": "markdown",
   "id": "945cec8d",
   "metadata": {},
   "source": [
    "# Importing libraries and Python data types"
   ]
  },
  {
   "cell_type": "markdown",
   "id": "3654c00d",
   "metadata": {},
   "source": [
    "#### Content List"
   ]
  },
  {
   "cell_type": "markdown",
   "id": "a6620503",
   "metadata": {},
   "source": [
    "##### 0.1 Importing libraries"
   ]
  },
  {
   "cell_type": "markdown",
   "id": "552067e6",
   "metadata": {},
   "source": [
    "##### 0.2 Python data types"
   ]
  },
  {
   "cell_type": "markdown",
   "id": "6dbf49da",
   "metadata": {},
   "source": [
    "#### 0.1 Importing Libraries (pandas, numby, and os)"
   ]
  },
  {
   "cell_type": "code",
   "execution_count": 1,
   "id": "f2c474b8",
   "metadata": {},
   "outputs": [],
   "source": [
    "#import libraries\n",
    "import pandas as pd\n",
    "import numpy as np\n",
    "import os"
   ]
  },
  {
   "cell_type": "markdown",
   "id": "0cd6ff79",
   "metadata": {},
   "source": [
    "#### 0.2 Python data types"
   ]
  },
  {
   "cell_type": "code",
   "execution_count": 20,
   "id": "a2b51954",
   "metadata": {},
   "outputs": [],
   "source": [
    "x = 50"
   ]
  },
  {
   "cell_type": "code",
   "execution_count": 21,
   "id": "7b93bc1b",
   "metadata": {},
   "outputs": [
    {
     "name": "stdout",
     "output_type": "stream",
     "text": [
      "50\n"
     ]
    }
   ],
   "source": [
    "print(x)"
   ]
  },
  {
   "cell_type": "code",
   "execution_count": 22,
   "id": "272c9172",
   "metadata": {},
   "outputs": [
    {
     "data": {
      "text/plain": [
       "100"
      ]
     },
     "execution_count": 22,
     "metadata": {},
     "output_type": "execute_result"
    }
   ],
   "source": [
    "x+50"
   ]
  },
  {
   "cell_type": "code",
   "execution_count": 25,
   "id": "cde1c55b",
   "metadata": {},
   "outputs": [],
   "source": [
    "k=150"
   ]
  },
  {
   "cell_type": "code",
   "execution_count": 26,
   "id": "cf4aa40a",
   "metadata": {},
   "outputs": [
    {
     "data": {
      "text/plain": [
       "100"
      ]
     },
     "execution_count": 26,
     "metadata": {},
     "output_type": "execute_result"
    }
   ],
   "source": [
    "k-50"
   ]
  },
  {
   "cell_type": "code",
   "execution_count": 27,
   "id": "dc3707e0",
   "metadata": {},
   "outputs": [],
   "source": [
    "j=75"
   ]
  },
  {
   "cell_type": "code",
   "execution_count": 28,
   "id": "a475971d",
   "metadata": {},
   "outputs": [
    {
     "data": {
      "text/plain": [
       "100"
      ]
     },
     "execution_count": 28,
     "metadata": {},
     "output_type": "execute_result"
    }
   ],
   "source": [
    "j+25"
   ]
  },
  {
   "cell_type": "code",
   "execution_count": 29,
   "id": "61a6e0ce",
   "metadata": {},
   "outputs": [],
   "source": [
    "l=6.3"
   ]
  },
  {
   "cell_type": "code",
   "execution_count": 30,
   "id": "41010dd1",
   "metadata": {},
   "outputs": [],
   "source": [
    "y = 2.4"
   ]
  },
  {
   "cell_type": "code",
   "execution_count": 31,
   "id": "fbd84743",
   "metadata": {},
   "outputs": [
    {
     "data": {
      "text/plain": [
       "2.625"
      ]
     },
     "execution_count": 31,
     "metadata": {},
     "output_type": "execute_result"
    }
   ],
   "source": [
    "l/y"
   ]
  },
  {
   "cell_type": "code",
   "execution_count": 32,
   "id": "c5c62e9a",
   "metadata": {},
   "outputs": [],
   "source": [
    "z='Week'"
   ]
  },
  {
   "cell_type": "code",
   "execution_count": 33,
   "id": "48cbd48e",
   "metadata": {},
   "outputs": [],
   "source": [
    "i='end'"
   ]
  },
  {
   "cell_type": "code",
   "execution_count": 34,
   "id": "ee767435",
   "metadata": {},
   "outputs": [
    {
     "data": {
      "text/plain": [
       "'Weekend'"
      ]
     },
     "execution_count": 34,
     "metadata": {},
     "output_type": "execute_result"
    }
   ],
   "source": [
    "z+i"
   ]
  },
  {
   "cell_type": "code",
   "execution_count": 35,
   "id": "249b2bff",
   "metadata": {},
   "outputs": [],
   "source": [
    "a='After two weeks of rain, a satelite photo shows a green landscape.'"
   ]
  },
  {
   "cell_type": "code",
   "execution_count": 36,
   "id": "39869a41",
   "metadata": {},
   "outputs": [],
   "source": [
    "b='Still, missing diving in the ocean.'"
   ]
  },
  {
   "cell_type": "code",
   "execution_count": 37,
   "id": "28fc5657",
   "metadata": {},
   "outputs": [
    {
     "data": {
      "text/plain": [
       "'After two weeks of rain, a satelite photo shows a green landscape.Still, missing diving in the ocean.'"
      ]
     },
     "execution_count": 37,
     "metadata": {},
     "output_type": "execute_result"
    }
   ],
   "source": [
    "a+b"
   ]
  },
  {
   "cell_type": "code",
   "execution_count": 38,
   "id": "4f0b7600",
   "metadata": {},
   "outputs": [
    {
     "data": {
      "text/plain": [
       "'WeekWeekWeekWeekWeekWeekWeekWeekWeekWeekWeekWeekWeekWeekWeekWeekWeekWeekWeekWeekWeekWeekWeekWeekWeekWeekWeekWeekWeekWeekWeekWeekWeekWeekWeekWeekWeekWeekWeekWeekWeekWeekWeekWeekWeekWeekWeekWeekWeekWeekWeekWeekWeekWeekWeekWeekWeekWeekWeekWeekWeekWeekWeekWeekWeekWeekWeekWeekWeekWeekWeekWeekWeekWeekWeekWeekWeekWeekWeekWeekWeekWeekWeekWeekWeekWeekWeekWeekWeekWeekWeekWeekWeekWeekWeekWeekWeekWeekWeekWeek'"
      ]
     },
     "execution_count": 38,
     "metadata": {},
     "output_type": "execute_result"
    }
   ],
   "source": [
    "z*100"
   ]
  },
  {
   "cell_type": "code",
   "execution_count": 14,
   "id": "763d2717",
   "metadata": {},
   "outputs": [],
   "source": []
  }
 ],
 "metadata": {
  "kernelspec": {
   "display_name": "Python 3 (ipykernel)",
   "language": "python",
   "name": "python3"
  },
  "language_info": {
   "codemirror_mode": {
    "name": "ipython",
    "version": 3
   },
   "file_extension": ".py",
   "mimetype": "text/x-python",
   "name": "python",
   "nbconvert_exporter": "python",
   "pygments_lexer": "ipython3",
   "version": "3.9.13"
  }
 },
 "nbformat": 4,
 "nbformat_minor": 5
}
